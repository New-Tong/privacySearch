{
 "cells": [
  {
   "cell_type": "code",
   "execution_count": 108,
   "metadata": {},
   "outputs": [],
   "source": [
    "import pymysql\n",
    "import pandas as pd\n",
    "import random\n",
    "import numpy as np\n",
    "from sshtunnel import SSHTunnelForwarder\n",
    "import json\n",
    "\n",
    " \n",
    "# 假设有一个名为data.json的文件\n",
    "json_file_path = 'table_config.json'\n",
    " \n",
    "# 读取JSON文件\n",
    "with open(json_file_path, 'r', encoding='utf-8') as file:\n",
    "    datas = json.load(file)\n",
    "    \n",
    "split_info = datas['table-config']['tables'][1]['split_tables']\n",
    "\n",
    "source_table = datas['table-config']['tables'][0]['real_table_name']\n"
   ]
  },
  {
   "cell_type": "code",
   "execution_count": 109,
   "metadata": {},
   "outputs": [],
   "source": [
    "conn1 = pymysql.connect(host='172.28.72.225', user='root', port=7487,\n",
    "                       password='l84kCG5KP4uNNtRX', database='dgut')"
   ]
  },
  {
   "cell_type": "code",
   "execution_count": 110,
   "metadata": {},
   "outputs": [],
   "source": [
    "\n",
    "server = SSHTunnelForwarder(\n",
    "    ('172.28.72.225', 22), # 指定 ssh 登录的跳转机的 address，端口号\n",
    "    ssh_username='root', # 远程服务器的用户名，注意不是 DB 的用户名和密码\n",
    "    ssh_password='GDS&123softswitch', # 远程服务器的密码\n",
    "    remote_bind_address=('172.28.160.99', 13306), # 注意端口号不要加引号\n",
    "    # local_bind_address=('127.0.0.1', 3306)#端口可以自己设置，没有冲突即可，不加这个参数也可\n",
    ")\n",
    "server.start()\n",
    "\n",
    "# 数据库表是com_tran_info userlog 的sada_gdpi_click\n",
    "conn2 = pymysql.connect(host='127.0.0.1',\n",
    "                port=server.local_bind_port, # server.local_bind_port, \n",
    "                user='duser',\n",
    "                password='RAkj#7853',\n",
    "                database='userlog1',\n",
    "                connect_timeout=10,\n",
    "            )"
   ]
  },
  {
   "cell_type": "code",
   "execution_count": 116,
   "metadata": {},
   "outputs": [],
   "source": [
    "cur1 = conn1.cursor()\n",
    "cur2 = conn2.cursor()"
   ]
  },
  {
   "cell_type": "code",
   "execution_count": 112,
   "metadata": {},
   "outputs": [],
   "source": [
    "query_ins = \"SELECT * FROM sada_gdpi_click_dtl_dgut_ins\"\n",
    "cur2.execute(query_ins)\n",
    "description = cur2.description\n",
    "ins_results = cur2.fetchall()"
   ]
  },
  {
   "cell_type": "code",
   "execution_count": 117,
   "metadata": {},
   "outputs": [
    {
     "data": {
      "text/plain": [
       "((910001,\n",
       "  '192.168.1.3',\n",
       "  'Ad2',\n",
       "  1695201000,\n",
       "  'http://example.org',\n",
       "  'http://anotherref.com',\n",
       "  'Mozilla/5.0',\n",
       "  '192.168.1.4',\n",
       "  'cookie_value2',\n",
       "  '8081',\n",
       "  '{\"key\": \"value2\"}',\n",
       "  datetime.datetime(2024, 9, 24, 7, 46, 8),\n",
       "  2),\n",
       " (910002,\n",
       "  '192.168.1.5',\n",
       "  'Ad3',\n",
       "  1695202000,\n",
       "  'http://example.net',\n",
       "  'http://yetanotherref.com',\n",
       "  'Mozilla/5.0',\n",
       "  '192.168.1.6',\n",
       "  'cookie_value3',\n",
       "  '8082',\n",
       "  '{\"key\": \"value3\"}',\n",
       "  datetime.datetime(2024, 9, 24, 7, 46, 8),\n",
       "  3))"
      ]
     },
     "execution_count": 117,
     "metadata": {},
     "output_type": "execute_result"
    }
   ],
   "source": [
    "ins_results"
   ]
  },
  {
   "cell_type": "code",
   "execution_count": 114,
   "metadata": {},
   "outputs": [
    {
     "name": "stdout",
     "output_type": "stream",
     "text": [
      "CREATE TABLE IF NOT EXISTS sada_gdpi_click_dtl_relation (sid bigint(20), sid0 bigint(20), sid1 bigint(20), sid2 bigint(20), sid3 bigint(20))\n",
      "CREATE TABLE IF NOT EXISTS sada_gdpi_click_dtl_server0 (sid INT, f_srcip VARCHAR(100))\n",
      "CREATE TABLE IF NOT EXISTS sada_gdpi_click_dtl_server1 (sid INT, f_ua VARCHAR(100), f_dstip VARCHAR(100), f_cookie VARCHAR(100))\n",
      "CREATE TABLE IF NOT EXISTS sada_gdpi_click_dtl_server2 (sid INT, f_ref VARCHAR(100), f_url VARCHAR(100), f_ts VARCHAR(100), f_ad VARCHAR(100))\n",
      "CREATE TABLE IF NOT EXISTS sada_gdpi_click_dtl_server3 (sid INT, f_dataid VARCHAR(100), f_json VARCHAR(100), f_update_time VARCHAR(100), f_src_port VARCHAR(100))\n"
     ]
    }
   ],
   "source": [
    "results = np.array(ins_results)\n",
    "key_dict = {}\n",
    "for k, kl in enumerate(description):\n",
    "    key_dict[kl[0]] = k\n",
    "for i in range(len(split_info)):\n",
    "    table_name = source_table + '_' + split_info[i]['split_table_name']\n",
    "    columns_info = split_info[i]['columns']\n",
    "    drop_query = 'DROP TABLE IF EXISTS %s' % table_name\n",
    "    cur1.execute(drop_query)\n",
    "    if split_info[i]['split_table_name'] != 'relation':\n",
    "        create_query = 'CREATE TABLE IF NOT EXISTS %s (sid INT, ' % table_name\n",
    "    else:\n",
    "        create_query = 'CREATE TABLE IF NOT EXISTS %s (' % table_name\n",
    "        # 生成随机矩阵\n",
    "        num_rows = results.shape[0]\n",
    "        num_columns = len(columns_info) - 1  # 减去 'sid' 列\n",
    "\n",
    "        # 创建插入数据的矩阵\n",
    "        insert_data = []\n",
    "\n",
    "        for col in range(num_columns):\n",
    "            unique_numbers = set()\n",
    "            while len(unique_numbers) < num_rows:\n",
    "                random_num = random.randint(100000000, 999999999)\n",
    "                unique_numbers.add(random_num)\n",
    "            # 将生成的随机数添加到 DataFrame 中\n",
    "            # df[f'sid{col}'] = list(unique_numbers)\n",
    "            unique_numbers = np.array(list(unique_numbers))\n",
    "            unique_numbers = unique_numbers.reshape(-1, 1)\n",
    "            results = np.hstack([results, unique_numbers])\n",
    "            key_dict[f'sid{col}'] = len(key_dict.keys())\n",
    "    # for k in columns_info:\n",
    "    #     create_query += '%s %s(%s), ' % (k['name'], k['type'], k['length'])\n",
    "    # create_query = create_query[:-2]\n",
    "    # create_query += ')'\n",
    "    # create_query\n",
    "    # print(create_query)\n",
    "    # cur1.execute(create_query)\n",
    "source_columns = list(key_dict.keys())\n",
    "target_columns = {}\n",
    "for i in range(len(split_info)):\n",
    "    table_name = source_table + '_' + split_info[i]['split_table_name']\n",
    "    columns_info = split_info[i]['columns']\n",
    "    if split_info[i]['split_table_name'] != 'relation':\n",
    "        cross_columns = ['sid']\n",
    "    else:\n",
    "        cross_columns = []\n",
    "    for k in columns_info:\n",
    "        match_name = k['name']\n",
    "        # if match_name in source_columns:\n",
    "        cross_columns.append(k['name'])\n",
    "    target_columns[table_name] = cross_columns\n",
    "\n",
    "# 插入子表\n",
    "insert_query_dict = {}\n",
    "for table_name in target_columns:\n",
    "    insert_query = 'INSERT INTO %s (' % table_name\n",
    "    columns_list = target_columns[table_name]\n",
    "    for k in columns_list:\n",
    "        insert_query += '%s, ' % k\n",
    "    insert_query = insert_query[:-2] + ') VALUES ('\n",
    "    for i in range(len(columns_list)):\n",
    "        insert_query += '%s, '\n",
    "    insert_query = insert_query[:-2] + ')'\n",
    "    insert_query_dict[table_name] = insert_query\n",
    "\n",
    "i = 0\n",
    "for table_name in target_columns:\n",
    "    if table_name.find('relation') != -1:\n",
    "        source_keys = [key_dict['sid']]\n",
    "    else:\n",
    "        source_keys = [key_dict[f'sid{i}']]\n",
    "        i = i + 1\n",
    "    for k in target_columns[table_name]:\n",
    "        if k != 'sid':\n",
    "            source_keys.append(key_dict[k])\n",
    "    insert_data = results[:, source_keys].tolist()\n",
    "    insert_query = insert_query_dict[table_name]\n",
    "    cur1.executemany(insert_query, insert_data)\n",
    "    conn1.commit()"
   ]
  },
  {
   "cell_type": "code",
   "execution_count": 122,
   "metadata": {},
   "outputs": [
    {
     "data": {
      "text/plain": [
       "(2,\n",
       " (910001,\n",
       "  '192.168.1.3',\n",
       "  'Ad2',\n",
       "  1695201000,\n",
       "  'http://example.org',\n",
       "  'http://anotherref.com',\n",
       "  'Mozilla/5.0',\n",
       "  '192.168.1.4',\n",
       "  'cookie_value2',\n",
       "  '8081',\n",
       "  '{\"key\": \"value2\"}',\n",
       "  datetime.datetime(2024, 9, 24, 7, 46, 8),\n",
       "  2))"
      ]
     },
     "execution_count": 122,
     "metadata": {},
     "output_type": "execute_result"
    }
   ],
   "source": [
    "query_del = \"SELECT * FROM sada_gdpi_click_dtl_dgut_del\"\n",
    "cur2.execute(query_ins)\n",
    "description = cur2.description\n",
    "del_results = cur2.fetchall()\n",
    "len(del_results), del_results[0]"
   ]
  },
  {
   "cell_type": "code",
   "execution_count": 123,
   "metadata": {},
   "outputs": [],
   "source": [
    "results = np.array(del_results)\n",
    "key_dict = {}\n",
    "for k, kl in enumerate(description):\n",
    "    key_dict[kl[0]] = k\n",
    "for i in range(len(split_info)):\n",
    "    table_name = source_table + '_' + split_info[i]['split_table_name']\n",
    "    columns_info = split_info[i]['columns']\n",
    "    # drop_query = 'DROP TABLE IF EXISTS %s' % table_name\n",
    "    # cur1.execute(drop_query)\n",
    "    if split_info[i]['split_table_name'] != 'relation':\n",
    "        create_query = 'CREATE TABLE IF NOT EXISTS %s (sid INT, ' % table_name\n",
    "    else:\n",
    "        create_query = 'CREATE TABLE IF NOT EXISTS %s (' % table_name\n",
    "        # 生成随机矩阵\n",
    "        num_rows = results.shape[0]\n",
    "        num_columns = len(columns_info) - 1  # 减去 'sid' 列\n",
    "\n",
    "        # 创建插入数据的矩阵\n",
    "        insert_data = []\n",
    "\n",
    "        for col in range(num_columns):\n",
    "            unique_numbers = set()\n",
    "            while len(unique_numbers) < num_rows:\n",
    "                random_num = random.randint(100000000, 999999999)\n",
    "                unique_numbers.add(random_num)\n",
    "            # 将生成的随机数添加到 DataFrame 中\n",
    "            # df[f'sid{col}'] = list(unique_numbers)\n",
    "            unique_numbers = np.array(list(unique_numbers))\n",
    "            unique_numbers = unique_numbers.reshape(-1, 1)\n",
    "            results = np.hstack([results, unique_numbers])\n",
    "            key_dict[f'sid{col}'] = len(key_dict.keys())\n",
    "source_columns = list(key_dict.keys())\n",
    "target_columns = {}\n",
    "for i in range(len(split_info)):\n",
    "    table_name = source_table + '_' + split_info[i]['split_table_name']\n",
    "    columns_info = split_info[i]['columns']\n",
    "    if split_info[i]['split_table_name'] != 'relation':\n",
    "        cross_columns = ['sid']\n",
    "    else:\n",
    "        cross_columns = []\n",
    "    for k in columns_info:\n",
    "        match_name = k['name']\n",
    "        # if match_name in source_columns:\n",
    "        cross_columns.append(k['name'])\n",
    "    target_columns[table_name] = cross_columns"
   ]
  },
  {
   "cell_type": "code",
   "execution_count": 138,
   "metadata": {},
   "outputs": [
    {
     "data": {
      "text/plain": [
       "array([[910001, '192.168.1.3', 'Ad2', 1695201000, 'http://example.org',\n",
       "        'http://anotherref.com', 'Mozilla/5.0', '192.168.1.4',\n",
       "        'cookie_value2', '8081', '{\"key\": \"value2\"}',\n",
       "        datetime.datetime(2024, 9, 24, 7, 46, 8), 2, 137241341,\n",
       "        365214756, 867997588, 532204752],\n",
       "       [910002, '192.168.1.5', 'Ad3', 1695202000, 'http://example.net',\n",
       "        'http://yetanotherref.com', 'Mozilla/5.0', '192.168.1.6',\n",
       "        'cookie_value3', '8082', '{\"key\": \"value3\"}',\n",
       "        datetime.datetime(2024, 9, 24, 7, 46, 8), 3, 733306070,\n",
       "        190752694, 918828685, 909078071]], dtype=object)"
      ]
     },
     "execution_count": 138,
     "metadata": {},
     "output_type": "execute_result"
    }
   ],
   "source": [
    "results"
   ]
  },
  {
   "cell_type": "code",
   "execution_count": 127,
   "metadata": {},
   "outputs": [],
   "source": []
  },
  {
   "cell_type": "code",
   "execution_count": 129,
   "metadata": {},
   "outputs": [
    {
     "data": {
      "text/plain": [
       "{'sada_gdpi_click_dtl_relation': 'DELETE FROM sada_gdpi_click_dtl_relation WHERE sid =',\n",
       " 'sada_gdpi_click_dtl_server0': 'DELETE FROM sada_gdpi_click_dtl_server0 WHERE sid =',\n",
       " 'sada_gdpi_click_dtl_server1': 'DELETE FROM sada_gdpi_click_dtl_server1 WHERE sid =',\n",
       " 'sada_gdpi_click_dtl_server2': 'DELETE FROM sada_gdpi_click_dtl_server2 WHERE sid =',\n",
       " 'sada_gdpi_click_dtl_server3': 'DELETE FROM sada_gdpi_click_dtl_server3 WHERE sid ='}"
      ]
     },
     "execution_count": 129,
     "metadata": {},
     "output_type": "execute_result"
    }
   ],
   "source": [
    "query_dict"
   ]
  },
  {
   "cell_type": "code",
   "execution_count": 139,
   "metadata": {},
   "outputs": [
    {
     "data": {
      "text/plain": [
       "array([[910001, '192.168.1.3', 'Ad2', 1695201000, 'http://example.org',\n",
       "        'http://anotherref.com', 'Mozilla/5.0', '192.168.1.4',\n",
       "        'cookie_value2', '8081', '{\"key\": \"value2\"}',\n",
       "        datetime.datetime(2024, 9, 24, 7, 46, 8), 2, 137241341,\n",
       "        365214756, 867997588, 532204752],\n",
       "       [910002, '192.168.1.5', 'Ad3', 1695202000, 'http://example.net',\n",
       "        'http://yetanotherref.com', 'Mozilla/5.0', '192.168.1.6',\n",
       "        'cookie_value3', '8082', '{\"key\": \"value3\"}',\n",
       "        datetime.datetime(2024, 9, 24, 7, 46, 8), 3, 733306070,\n",
       "        190752694, 918828685, 909078071]], dtype=object)"
      ]
     },
     "execution_count": 139,
     "metadata": {},
     "output_type": "execute_result"
    }
   ],
   "source": [
    "results"
   ]
  },
  {
   "cell_type": "code",
   "execution_count": 157,
   "metadata": {},
   "outputs": [
    {
     "data": {
      "text/plain": [
       "{'sada_gdpi_click_dtl_relation': ['sid', 'sid0', 'sid1', 'sid2', 'sid3'],\n",
       " 'sada_gdpi_click_dtl_server0': ['sid', 'f_srcip'],\n",
       " 'sada_gdpi_click_dtl_server1': ['sid', 'f_ua', 'f_dstip', 'f_cookie'],\n",
       " 'sada_gdpi_click_dtl_server2': ['sid', 'f_ref', 'f_url', 'f_ts', 'f_ad'],\n",
       " 'sada_gdpi_click_dtl_server3': ['sid',\n",
       "  'f_dataid',\n",
       "  'f_json',\n",
       "  'f_update_time',\n",
       "  'f_src_port']}"
      ]
     },
     "execution_count": 157,
     "metadata": {},
     "output_type": "execute_result"
    }
   ],
   "source": [
    "target_columns"
   ]
  },
  {
   "cell_type": "code",
   "execution_count": 154,
   "metadata": {},
   "outputs": [
    {
     "data": {
      "text/plain": [
       "['UPDATE sada_gdpi_click_dtl_relation SET sid=0 WHERE sid=910001',\n",
       " 'UPDATE sada_gdpi_click_dtl_relation SET sid=0 WHERE sid=910002',\n",
       " 'UPDATE sada_gdpi_click_dtl_server0 SET sid=0 WHERE sid=910001',\n",
       " 'UPDATE sada_gdpi_click_dtl_server0 SET sid=0 WHERE sid=910002',\n",
       " 'UPDATE sada_gdpi_click_dtl_server1 SET sid=0 WHERE sid=910001',\n",
       " 'UPDATE sada_gdpi_click_dtl_server1 SET sid=0 WHERE sid=910002',\n",
       " 'UPDATE sada_gdpi_click_dtl_server2 SET sid=0 WHERE sid=910001',\n",
       " 'UPDATE sada_gdpi_click_dtl_server2 SET sid=0 WHERE sid=910002',\n",
       " 'UPDATE sada_gdpi_click_dtl_server3 SET sid=0 WHERE sid=910001',\n",
       " 'UPDATE sada_gdpi_click_dtl_server3 SET sid=0 WHERE sid=910002']"
      ]
     },
     "execution_count": 154,
     "metadata": {},
     "output_type": "execute_result"
    }
   ],
   "source": [
    "i = 0\n",
    "del_querys = []\n",
    "del_idxs = results[:,key_dict['sid']]\n",
    "\n",
    "# 删除数据\n",
    "del_key = 'sid'\n",
    "    \n",
    "for table_name in target_columns:\n",
    "    for idx in del_idxs:\n",
    "        del_query = 'UPDATE %s SET %s=0 WHERE %s=%s' % (table_name, del_key, del_key, idx)\n",
    "        del_querys.append(del_query)\n",
    "del_querys"
   ]
  },
  {
   "cell_type": "code",
   "execution_count": 156,
   "metadata": {},
   "outputs": [
    {
     "name": "stdout",
     "output_type": "stream",
     "text": [
      "SQL Failed: UPDATE sada_gdpi_click_dtl_server3 SET sid=0 WHERE sid=910001\n",
      "SQL Failed: UPDATE sada_gdpi_click_dtl_server3 SET sid=0 WHERE sid=910002\n"
     ]
    }
   ],
   "source": [
    "for del_query in del_querys:\n",
    "    try:\n",
    "        cur1.execute(del_query)\n",
    "    except:\n",
    "        print(\"SQL Failed: %s\"%del_query)\n",
    "conn1.commit()"
   ]
  },
  {
   "cell_type": "code",
   "execution_count": 153,
   "metadata": {},
   "outputs": [
    {
     "data": {
      "text/plain": [
       "'UPDATE table_name sada_gdpi_click_dtl_relation SET sid=0 WHERE sid=910001'"
      ]
     },
     "execution_count": 153,
     "metadata": {},
     "output_type": "execute_result"
    }
   ],
   "source": [
    "del_query"
   ]
  },
  {
   "cell_type": "code",
   "execution_count": 141,
   "metadata": {},
   "outputs": [
    {
     "data": {
      "text/plain": [
       "['DELETE FROM sada_gdpi_click_dtl_relation WHERE sid = 910001;',\n",
       " 'DELETE FROM sada_gdpi_click_dtl_relation WHERE sid = 910001;',\n",
       " 'DELETE FROM sada_gdpi_click_dtl_server0 WHERE sid = 137241341;',\n",
       " 'DELETE FROM sada_gdpi_click_dtl_server0 WHERE sid = 137241341;',\n",
       " 'DELETE FROM sada_gdpi_click_dtl_server1 WHERE sid = 365214756;',\n",
       " 'DELETE FROM sada_gdpi_click_dtl_server1 WHERE sid = 365214756;',\n",
       " 'DELETE FROM sada_gdpi_click_dtl_server2 WHERE sid = 867997588;',\n",
       " 'DELETE FROM sada_gdpi_click_dtl_server2 WHERE sid = 867997588;',\n",
       " 'DELETE FROM sada_gdpi_click_dtl_server3 WHERE sid = 532204752;',\n",
       " 'DELETE FROM sada_gdpi_click_dtl_server3 WHERE sid = 532204752;']"
      ]
     },
     "execution_count": 141,
     "metadata": {},
     "output_type": "execute_result"
    }
   ],
   "source": [
    "del_querys"
   ]
  },
  {
   "cell_type": "code",
   "execution_count": 134,
   "metadata": {},
   "outputs": [
    {
     "data": {
      "text/plain": [
       "['DELETE FROM sada_gdpi_click_dtl_relation WHERE sid = 910001;',\n",
       " 'DELETE FROM sada_gdpi_click_dtl_relation WHERE sid = 910001;',\n",
       " 'DELETE FROM sada_gdpi_click_dtl_server0 WHERE sid = 137241341;',\n",
       " 'DELETE FROM sada_gdpi_click_dtl_server0 WHERE sid = 137241341;',\n",
       " 'DELETE FROM sada_gdpi_click_dtl_server1 WHERE sid = 365214756;',\n",
       " 'DELETE FROM sada_gdpi_click_dtl_server1 WHERE sid = 365214756;',\n",
       " 'DELETE FROM sada_gdpi_click_dtl_server2 WHERE sid = 867997588;',\n",
       " 'DELETE FROM sada_gdpi_click_dtl_server2 WHERE sid = 867997588;',\n",
       " 'DELETE FROM sada_gdpi_click_dtl_server3 WHERE sid = 532204752;',\n",
       " 'DELETE FROM sada_gdpi_click_dtl_server3 WHERE sid = 532204752;']"
      ]
     },
     "execution_count": 134,
     "metadata": {},
     "output_type": "execute_result"
    }
   ],
   "source": [
    "del_querys"
   ]
  },
  {
   "cell_type": "code",
   "execution_count": 82,
   "metadata": {},
   "outputs": [
    {
     "data": {
      "text/plain": [
       "'DELETE FROM sada_gdpi_click_dtl_relation WHERE sid = 110001;'"
      ]
     },
     "execution_count": 82,
     "metadata": {},
     "output_type": "execute_result"
    }
   ],
   "source": [
    "del_query"
   ]
  },
  {
   "cell_type": "code",
   "execution_count": 45,
   "metadata": {},
   "outputs": [
    {
     "name": "stdout",
     "output_type": "stream",
     "text": [
      "CREATE TABLE IF NOT EXISTS sada_gdpi_click_dtl_relation (sid bigint(20), sid0 bigint(20), sid1 bigint(20), sid2 bigint(20), sid3 bigint(20))\n",
      "CREATE TABLE IF NOT EXISTS sada_gdpi_click_dtl_server0 (sid INT, f_srcip VARCHAR(100))\n",
      "CREATE TABLE IF NOT EXISTS sada_gdpi_click_dtl_server1 (sid INT, f_ua VARCHAR(100), f_dstip VARCHAR(100), f_cookie VARCHAR(100))\n",
      "CREATE TABLE IF NOT EXISTS sada_gdpi_click_dtl_server2 (sid INT, f_ref VARCHAR(100), f_url VARCHAR(100), f_ts VARCHAR(100), f_ad VARCHAR(100))\n",
      "CREATE TABLE IF NOT EXISTS sada_gdpi_click_dtl_server3 (sid INT, f_dataid VARCHAR(100), f_json VARCHAR(100), f_update_time VARCHAR(100), f_src_port VARCHAR(100))\n"
     ]
    }
   ],
   "source": [
    "\n",
    "for i in range(len(split_info)):\n",
    "    table_name = source_table + '_' + split_info[i]['split_table_name']\n",
    "    columns_info = split_info[i]['columns']\n",
    "    drop_query = 'DROP TABLE IF EXISTS %s' % table_name\n",
    "    cur1.execute(drop_query)\n",
    "    if split_info[i]['split_table_name'] != 'relation':\n",
    "        create_query = 'CREATE TABLE IF NOT EXISTS %s (sid INT, ' % table_name\n",
    "    else:\n",
    "        create_query = 'CREATE TABLE IF NOT EXISTS %s (' % table_name\n",
    "        #生成随机矩阵\n",
    "        num_rows = results.shape[0]\n",
    "        num_columns = len(columns_info) - 1  # 减去 'sid' 列\n",
    "\n",
    "        # 创建插入数据的矩阵\n",
    "        insert_data = []\n",
    "\n",
    "        for col in range(num_columns):\n",
    "            unique_numbers = set()\n",
    "            while len(unique_numbers) < num_rows:\n",
    "                random_num = random.randint(100000000, 999999999)\n",
    "                unique_numbers.add(random_num)\n",
    "            # 将生成的随机数添加到 DataFrame 中\n",
    "            # df[f'sid{col}'] = list(unique_numbers)\n",
    "            unique_numbers = np.array(list(unique_numbers))\n",
    "            unique_numbers = unique_numbers.reshape(-1, 1)\n",
    "            results = np.hstack([results, unique_numbers])\n",
    "            key_dict[f'sid{col}'] = len(key_dict.keys())\n",
    "    for k in columns_info:\n",
    "        create_query += '%s %s(%s), '%(k['name'], k['type'], k['length'])\n",
    "    create_query = create_query[:-2]\n",
    "    create_query += ')'\n",
    "    create_query\n",
    "    print(create_query)\n",
    "    cur1.execute(create_query)\n"
   ]
  },
  {
   "cell_type": "code",
   "execution_count": 26,
   "metadata": {},
   "outputs": [],
   "source": [
    "\n",
    "source_columns = list(key_dict.keys())\n",
    "target_columns = {}\n",
    "for i in range(len(split_info)):\n",
    "    table_name = source_table + '_' + split_info[i]['split_table_name']\n",
    "    columns_info = split_info[i]['columns']\n",
    "    if split_info[i]['split_table_name'] != 'relation':\n",
    "        cross_columns = ['sid']\n",
    "    else:\n",
    "        cross_columns = []\n",
    "    for k in columns_info:\n",
    "        match_name = k['name']\n",
    "        #if match_name in source_columns:\n",
    "        cross_columns.append(k['name'])\n",
    "    target_columns[table_name] = cross_columns\n"
   ]
  },
  {
   "cell_type": "code",
   "execution_count": 28,
   "metadata": {},
   "outputs": [],
   "source": [
    "\n",
    "# 插入子表\n",
    "insert_query_dict = {}\n",
    "for table_name in target_columns:\n",
    "    insert_query = 'INSERT INTO %s ('%table_name\n",
    "    columns_list = target_columns[table_name]\n",
    "    for k in columns_list:\n",
    "        insert_query += '%s, '%k\n",
    "    insert_query = insert_query[:-2] + ') VALUES ('\n",
    "    for i in range(len(columns_list)):\n",
    "        insert_query += '%s, '\n",
    "    insert_query = insert_query[:-2]+')'\n",
    "    insert_query_dict[table_name] = insert_query\n"
   ]
  },
  {
   "cell_type": "code",
   "execution_count": 48,
   "metadata": {},
   "outputs": [],
   "source": [
    "\n",
    "i = 0;\n",
    "for table_name in target_columns:\n",
    "    if table_name.find('relation') != -1:\n",
    "        source_keys = [key_dict['sid']];\n",
    "    else:\n",
    "        source_keys = [key_dict[f'sid{i}']];\n",
    "        i = i + 1;\n",
    "    for k in target_columns[table_name]:\n",
    "        if k !='sid':\n",
    "            source_keys.append(key_dict[k])\n",
    "    insert_data = results[:, source_keys].tolist()\n",
    "    insert_query = insert_query_dict[table_name]\n",
    "    cur1.executemany(insert_query, insert_data)\n",
    "    conn1.commit()\n",
    "    # break\n"
   ]
  },
  {
   "cell_type": "code",
   "execution_count": 41,
   "metadata": {},
   "outputs": [
    {
     "data": {
      "text/plain": [
       "{'sid': 0,\n",
       " 'f_srcip': 1,\n",
       " 'f_ad': 2,\n",
       " 'f_ts': 3,\n",
       " 'f_url': 4,\n",
       " 'f_ref': 5,\n",
       " 'f_ua': 6,\n",
       " 'f_dstip': 7,\n",
       " 'f_cookie': 8,\n",
       " 'f_src_port': 9,\n",
       " 'f_json': 10,\n",
       " 'f_update_time': 11,\n",
       " 'f_dataid': 12,\n",
       " 'sid0': 14,\n",
       " 'sid1': 15,\n",
       " 'sid2': 16,\n",
       " 'sid3': 17}"
      ]
     },
     "execution_count": 41,
     "metadata": {},
     "output_type": "execute_result"
    }
   ],
   "source": [
    "key_dict"
   ]
  },
  {
   "cell_type": "code",
   "execution_count": 40,
   "metadata": {},
   "outputs": [
    {
     "ename": "IndexError",
     "evalue": "index 17 is out of bounds for axis 1 with size 17",
     "output_type": "error",
     "traceback": [
      "\u001b[1;31m---------------------------------------------------------------------------\u001b[0m",
      "\u001b[1;31mIndexError\u001b[0m                                Traceback (most recent call last)",
      "Cell \u001b[1;32mIn[40], line 1\u001b[0m\n\u001b[1;32m----> 1\u001b[0m results[:, source_keys]\n",
      "\u001b[1;31mIndexError\u001b[0m: index 17 is out of bounds for axis 1 with size 17"
     ]
    }
   ],
   "source": [
    "results[:, source_keys]"
   ]
  },
  {
   "cell_type": "code",
   "execution_count": 35,
   "metadata": {},
   "outputs": [
    {
     "data": {
      "text/plain": [
       "{'sid': 0,\n",
       " 'f_srcip': 1,\n",
       " 'f_ad': 2,\n",
       " 'f_ts': 3,\n",
       " 'f_url': 4,\n",
       " 'f_ref': 5,\n",
       " 'f_ua': 6,\n",
       " 'f_dstip': 7,\n",
       " 'f_cookie': 8,\n",
       " 'f_src_port': 9,\n",
       " 'f_json': 10,\n",
       " 'f_update_time': 11,\n",
       " 'f_dataid': 12,\n",
       " 'sid0': 14,\n",
       " 'sid1': 15,\n",
       " 'sid2': 16,\n",
       " 'sid3': 17}"
      ]
     },
     "execution_count": 35,
     "metadata": {},
     "output_type": "execute_result"
    }
   ],
   "source": [
    "key_dict"
   ]
  },
  {
   "cell_type": "code",
   "execution_count": 33,
   "metadata": {},
   "outputs": [
    {
     "data": {
      "text/plain": [
       "'INSERT INTO sada_gdpi_click_dtl_relation (sid, sid0, sid1, sid2, sid3) VALUES (%s, %s, %s, %s, %s)'"
      ]
     },
     "execution_count": 33,
     "metadata": {},
     "output_type": "execute_result"
    }
   ],
   "source": [
    "insert_query"
   ]
  },
  {
   "cell_type": "code",
   "execution_count": 34,
   "metadata": {},
   "outputs": [
    {
     "data": {
      "text/plain": [
       "[[1,\n",
       "  '224.93.65.63',\n",
       "  'a1dc2c7141eda1422e6b33c62296a0a24c014e21460cc4168d581a',\n",
       "  1715270352010,\n",
       "  'ODdmNzRmNjM0YmY0ODgxNDFlNmUxZmFiYTFjYjc5M2Q1YmFiMDIxYmIyODdmMDAwMzFhYjY3ZDhiMzNkNDA2ZA==',\n",
       "  '',\n",
       "  'com.sankuai.meituan/1201201404 (Linux; U; Android 22; zh_CN; Redmi K30 Pro; Build/RKQ1.201826.012; C',\n",
       "  '103.37.155.60',\n",
       "  '',\n",
       "  'A9D8',\n",
       "  '',\n",
       "  datetime.datetime(2024, 8, 19, 0, 2, 40),\n",
       "  6780877879247444511,\n",
       "  340787200,\n",
       "  362807296,\n",
       "  717488128,\n",
       "  479723520],\n",
       " [15,\n",
       "  '58.40.147.146',\n",
       "  'bdde9edc1abcf7e062151e6b8c576bf80ac3',\n",
       "  1715270410101,\n",
       "  'http://123.184.24.196:8010/v1/resource/1535464238-1-30232.m4s?build=76601101&buvid=Y248B32BAA43B5622',\n",
       "  '',\n",
       "  'Bilibili Freedoooooom/MarkII',\n",
       "  '123.184.24.196',\n",
       "  '',\n",
       "  'D7B',\n",
       "  '',\n",
       "  datetime.datetime(2024, 8, 19, 0, 2, 40),\n",
       "  8623023287988953196,\n",
       "  246415402,\n",
       "  306970653,\n",
       "  569638953,\n",
       "  729808920],\n",
       " [16,\n",
       "  '224.93.210.228',\n",
       "  'f18b287849eda7481c6571243f8c36d89f569529b24cda634bce',\n",
       "  1715270410101,\n",
       "  'http://pull-l3.douyincdn.com/pull-l3.douyincdn.com/third/stream-403339916794135017_zsd5.flv?prepare=',\n",
       "  '',\n",
       "  'LiveIO_ANDROID',\n",
       "  '61.170.77.213',\n",
       "  '',\n",
       "  'BC7F',\n",
       "  '',\n",
       "  datetime.datetime(2024, 8, 19, 0, 2, 40),\n",
       "  1927929080170586206,\n",
       "  748421171,\n",
       "  734789663,\n",
       "  396099625,\n",
       "  768606236],\n",
       " [17,\n",
       "  '101.88.226.70',\n",
       "  'f18b267147e7a74e1d632d8023e414c5c29634e83e728d474369',\n",
       "  1715270410101,\n",
       "  'http://227.23.60.5/upgcxcode/70/01/1517670170/1517670170-1-32201.m4s?e=ig8euxZM2rNcNbdlhoNvNC8BqJIzN',\n",
       "  '',\n",
       "  'Bilibili Freedoooooom/MarkII',\n",
       "  '227.23.60.5',\n",
       "  '',\n",
       "  '3941',\n",
       "  '',\n",
       "  datetime.datetime(2024, 8, 19, 0, 2, 40),\n",
       "  -714096918146581137,\n",
       "  187170868,\n",
       "  671088672,\n",
       "  417857577,\n",
       "  476839966],\n",
       " [18,\n",
       "  '224.92.86.168',\n",
       "  'f18b277222e1a22d226a366e9027f1332883dacdbeafbb647a27',\n",
       "  1715270410101,\n",
       "  'http://sns-img-hw.xhscdn.com/1040g018312hofrp07u0g5p7ugrrh87vr7udhs90?imageView2/2/w/1220/format/rei',\n",
       "  'https://app.xhs.cn/',\n",
       "  'discover/8.34.1 (iPhone; iOS 17.4.1; Scale/3.01)',\n",
       "  '180.153.82.63',\n",
       "  '',\n",
       "  'CBC2',\n",
       "  '',\n",
       "  datetime.datetime(2024, 8, 19, 0, 2, 40),\n",
       "  -8729343532265936186,\n",
       "  228851766,\n",
       "  186908711,\n",
       "  400556073,\n",
       "  169607199]]"
      ]
     },
     "execution_count": 34,
     "metadata": {},
     "output_type": "execute_result"
    }
   ],
   "source": [
    "insert_data"
   ]
  }
 ],
 "metadata": {
  "kernelspec": {
   "display_name": "pv",
   "language": "python",
   "name": "python3"
  },
  "language_info": {
   "codemirror_mode": {
    "name": "ipython",
    "version": 3
   },
   "file_extension": ".py",
   "mimetype": "text/x-python",
   "name": "python",
   "nbconvert_exporter": "python",
   "pygments_lexer": "ipython3",
   "version": "3.12.4"
  },
  "orig_nbformat": 4
 },
 "nbformat": 4,
 "nbformat_minor": 2
}
